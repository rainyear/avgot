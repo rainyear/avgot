{
 "cells": [
  {
   "cell_type": "code",
   "execution_count": 41,
   "metadata": {
    "collapsed": false
   },
   "outputs": [
    {
     "name": "stdout",
     "output_type": "stream",
     "text": [
      "0 0\n",
      "1 1\n",
      "2 2\n",
      "Computing 0 + 0...\n",
      "Computing 1 + 1...\n",
      "Computing 2 + 2...\n",
      "0\n",
      "2\n",
      "4\n",
      "CPU times: user 1.62 ms, sys: 1.86 ms, total: 3.49 ms\n",
      "Wall time: 4.01 s\n"
     ]
    }
   ],
   "source": [
    "%%time\n",
    "import uvloop\n",
    "import asyncio\n",
    "\n",
    "loop = uvloop.new_event_loop()\n",
    "asyncio.set_event_loop(loop)\n",
    "\n",
    "async def compute(a, b):\n",
    "    print(\"Computing {} + {}...\".format(a, b))\n",
    "    await asyncio.sleep(a+b)\n",
    "    return a + b\n",
    "tasks = []\n",
    "for i, j in zip(range(3), range(3)):\n",
    "    print(i, j)\n",
    "    tasks.append(asyncio.ensure_future(compute(i, j)))\n",
    "loop.run_until_complete(asyncio.gather(*tasks))\n",
    "for t in tasks:\n",
    "    print(t.result())\n",
    "loop.close()"
   ]
  },
  {
   "cell_type": "code",
   "execution_count": 44,
   "metadata": {
    "collapsed": false
   },
   "outputs": [
    {
     "name": "stdout",
     "output_type": "stream",
     "text": [
      "It costs 0.5s to process `Hello`!\n",
      "It costs 0.6s to process `Python`!\n",
      "It costs 0.4s to process `Fans`!\n",
      "It costs 0.1s to process `!`!\n",
      "CPU times: user 18.5 ms, sys: 2.98 ms, total: 21.4 ms\n",
      "Wall time: 1.64 s\n"
     ]
    }
   ],
   "source": [
    "%%time\n",
    "import requests as req\n",
    "\n",
    "URL = \"http://127.0.0.1:8000/{}\"\n",
    "words = [\"Hello\", \"Python\", \"Fans\", \"!\"]\n",
    "\n",
    "for word in words:\n",
    "    resp = req.get(URL.format(word))\n",
    "    print(resp.text)"
   ]
  },
  {
   "cell_type": "code",
   "execution_count": 43,
   "metadata": {
    "collapsed": false
   },
   "outputs": [
    {
     "name": "stdout",
     "output_type": "stream",
     "text": [
      "It costs 0.1s to process `!`!\n",
      "It costs 0.4s to process `Fans`!\n",
      "It costs 0.5s to process `Hello`!\n",
      "It costs 0.6s to process `Python`!\n",
      "CPU times: user 61.2 ms, sys: 18.2 ms, total: 79.3 ms\n",
      "Wall time: 732 ms\n"
     ]
    }
   ],
   "source": [
    "%%time\n",
    "import asyncio\n",
    "import aiohttp\n",
    "import uvloop\n",
    "\n",
    "words = [\"Hello\", \"Python\", \"Fans\", \"!\"]\n",
    "URL = \"http://127.0.0.1:8000/{}\"\n",
    "\n",
    "async def getPage(session, word):\n",
    "    with aiohttp.Timeout(10):\n",
    "        async with session.get(URL.format(word)) as resp:\n",
    "            print(await resp.text())\n",
    "\n",
    "loop = uvloop.new_event_loop()\n",
    "asyncio.set_event_loop(loop)\n",
    "session = aiohttp.ClientSession(loop=loop)\n",
    "tasks = []\n",
    "for word in words:\n",
    "    tasks.append(getPage(session, word))\n",
    "loop.run_until_complete(asyncio.gather(*tasks))\n",
    "loop.close()\n",
    "session.close()"
   ]
  },
  {
   "cell_type": "code",
   "execution_count": null,
   "metadata": {
    "collapsed": true
   },
   "outputs": [],
   "source": []
  }
 ],
 "metadata": {
  "kernelspec": {
   "display_name": "Python 3",
   "language": "python",
   "name": "python3"
  },
  "language_info": {
   "codemirror_mode": {
    "name": "ipython",
    "version": 3
   },
   "file_extension": ".py",
   "mimetype": "text/x-python",
   "name": "python",
   "nbconvert_exporter": "python",
   "pygments_lexer": "ipython3",
   "version": "3.5.1"
  }
 },
 "nbformat": 4,
 "nbformat_minor": 0
}
