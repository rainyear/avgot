{
 "cells": [
  {
   "cell_type": "code",
   "execution_count": 41,
   "metadata": {
    "collapsed": false
   },
   "outputs": [
    {
     "name": "stdout",
     "output_type": "stream",
     "text": [
      "0 0\n",
      "1 1\n",
      "2 2\n",
      "Computing 0 + 0...\n",
      "Computing 1 + 1...\n",
      "Computing 2 + 2...\n",
      "0\n",
      "2\n",
      "4\n",
      "CPU times: user 1.62 ms, sys: 1.86 ms, total: 3.49 ms\n",
      "Wall time: 4.01 s\n"
     ]
    }
   ],
   "source": [
    "%%time\n",
    "import uvloop\n",
    "import asyncio\n",
    "\n",
    "loop = uvloop.new_event_loop()\n",
    "asyncio.set_event_loop(loop)\n",
    "\n",
    "async def compute(a, b):\n",
    "    print(\"Computing {} + {}...\".format(a, b))\n",
    "    await asyncio.sleep(a+b)\n",
    "    return a + b\n",
    "tasks = []\n",
    "for i, j in zip(range(3), range(3)):\n",
    "    print(i, j)\n",
    "    tasks.append(asyncio.ensure_future(compute(i, j)))\n",
    "loop.run_until_complete(asyncio.gather(*tasks))\n",
    "for t in tasks:\n",
    "    print(t.result())\n",
    "loop.close()"
   ]
  },
  {
   "cell_type": "code",
   "execution_count": null,
   "metadata": {
    "collapsed": true
   },
   "outputs": [],
   "source": []
  }
 ],
 "metadata": {
  "kernelspec": {
   "display_name": "Python 3",
   "language": "python",
   "name": "python3"
  },
  "language_info": {
   "codemirror_mode": {
    "name": "ipython",
    "version": 3
   },
   "file_extension": ".py",
   "mimetype": "text/x-python",
   "name": "python",
   "nbconvert_exporter": "python",
   "pygments_lexer": "ipython3",
   "version": "3.5.1"
  }
 },
 "nbformat": 4,
 "nbformat_minor": 0
}
