{
 "cells": [
  {
   "cell_type": "code",
   "execution_count": 1,
   "metadata": {
    "collapsed": false
   },
   "outputs": [
    {
     "name": "stdout",
     "output_type": "stream",
     "text": [
      "Word: `Hello` recevied!\n",
      "Cost: 0.5 s to process!\n",
      "Word: `world` recevied!\n",
      "Cost: 0.5 s to process!\n",
      "Word: `!` recevied!\n",
      "Cost: 0.1 s to process!\n",
      "CPU times: user 85.6 ms, sys: 23 ms, total: 109 ms\n",
      "Wall time: 1.29 s\n"
     ]
    }
   ],
   "source": [
    "%%time\n",
    "import requests as req\n",
    "\n",
    "words = [\"Hello\", \"world\", \"!\"]\n",
    "for word in words:\n",
    "    URL = \"http://127.0.0.1:5000/{}\".format(word)\n",
    "    resp = req.get(URL)\n",
    "    print(resp.text)"
   ]
  },
  {
   "cell_type": "code",
   "execution_count": 2,
   "metadata": {
    "collapsed": false
   },
   "outputs": [
    {
     "name": "stdout",
     "output_type": "stream",
     "text": [
      "Word: `!` recevied!\n",
      "Cost: 0.1 s to process!\n",
      "Word: `Python` recevied!\n",
      "Cost: 0.6 s to process!\n",
      "Word: `Hey` recevied!\n",
      "Cost: 0.3 s to process!\n",
      "CPU times: user 105 ms, sys: 21.7 ms, total: 127 ms\n",
      "Wall time: 1.23 s\n"
     ]
    }
   ],
   "source": [
    "%%time\n",
    "import asyncio\n",
    "import aiohttp\n",
    "\n",
    "words = [\"Hey\", \"Python\", \"!\"]\n",
    "\n",
    "async def getPage(session, word):\n",
    "    with aiohttp.Timeout(10):\n",
    "        URL = \"http://127.0.0.1:5000/{}\".format(word)\n",
    "        async with session.get(URL.format(word)) as resp:\n",
    "            print(await resp.text())\n",
    "\n",
    "loop = asyncio.get_event_loop()\n",
    "session = aiohttp.ClientSession(loop=loop)\n",
    "tasks = []\n",
    "for word in words:\n",
    "    tasks.append(getPage(session, word))\n",
    "loop.run_until_complete(asyncio.gather(*tasks))\n",
    "loop.close()\n",
    "session.close()"
   ]
  },
  {
   "cell_type": "code",
   "execution_count": null,
   "metadata": {
    "collapsed": true
   },
   "outputs": [],
   "source": []
  }
 ],
 "metadata": {
  "kernelspec": {
   "display_name": "Python 3",
   "language": "python",
   "name": "python3"
  },
  "language_info": {
   "codemirror_mode": {
    "name": "ipython",
    "version": 3
   },
   "file_extension": ".py",
   "mimetype": "text/x-python",
   "name": "python",
   "nbconvert_exporter": "python",
   "pygments_lexer": "ipython3",
   "version": "3.5.1"
  }
 },
 "nbformat": 4,
 "nbformat_minor": 0
}
